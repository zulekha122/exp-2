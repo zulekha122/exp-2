{
  "nbformat": 4,
  "nbformat_minor": 0,
  "metadata": {
    "colab": {
      "provenance": []
    },
    "kernelspec": {
      "name": "python3",
      "display_name": "Python 3"
    },
    "language_info": {
      "name": "python"
    }
  },
  "cells": [
    {
      "cell_type": "code",
      "source": [
        "import numpy as np\n",
        "import cv2\n",
        "import matplotlib.pyplot as plt\n",
        "\n",
        "def add_salt_and_pepper_noise(image, salt_prob=0.01, pepper_prob=0.01):\n",
        "    \"\"\"\n",
        "    Add salt and pepper noise to an image.\n",
        "\n",
        "    Parameters:\n",
        "    - image: Input image (numpy array).\n",
        "    - salt_prob: Probability of adding salt noise.\n",
        "    - pepper_prob: Probability of adding pepper noise.\n",
        "\n",
        "    Returns:\n",
        "    - Noisy image (numpy array).\n",
        "    \"\"\"\n",
        "    noisy_image = np.copy(image)\n",
        "    total_pixels = image.size\n",
        "\n",
        "    # Add salt noise\n",
        "    num_salt = np.ceil(salt_prob * total_pixels)\n",
        "    coords = [np.random.randint(0, i - 1, int(num_salt)) for i in image.shape]\n",
        "    noisy_image[coords[0], coords[1], :] = 255  # Salt noise (white)\n",
        "\n",
        "    # Add pepper noise\n",
        "    num_pepper = np.ceil(pepper_prob * total_pixels)\n",
        "    coords = [np.random.randint(0, i - 1, int(num_pepper)) for i in image.shape]\n",
        "    noisy_image[coords[0], coords[1], :] = 0  # Pepper noise (black)\n",
        "\n",
        "    return noisy_image\n",
        "\n",
        "def smooth_image(image, kernel_size=5):\n",
        "    \"\"\"\n",
        "    Apply a smoothing filter to an image.\n",
        "\n",
        "    Parameters:\n",
        "    - image: Input image (numpy array).\n",
        "    - kernel_size: Size of the smoothing kernel.\n",
        "\n",
        "    Returns:\n",
        "    - Smoothed image (numpy array).\n",
        "    \"\"\"\n",
        "    return cv2.GaussianBlur(image, (kernel_size, kernel_size), 0)\n",
        "\n",
        "# Load an image\n",
        "image_path = '/content/mercedes.jpeg'  # Replace with your image path\n",
        "original_image = cv2.imread(image_path)\n",
        "if original_image is None:\n",
        "    print(f\"Error: Could not load image from {image_path}. Please check the file path.\")\n",
        "else:\n",
        "    original_image = cv2.cvtColor(original_image, cv2.COLOR_BGR2RGB)  # Convert to RGB\n",
        "\n",
        "\n",
        "\n",
        "# Add salt and pepper noise to the image\n",
        "noisy_image = add_salt_and_pepper_noise(original_image, salt_prob=0.02, pepper_prob=0.02)\n",
        "\n",
        "# Smooth the noisy image\n",
        "smoothed_image = smooth_image(noisy_image, kernel_size=5)\n",
        "\n",
        "# Display the images\n",
        "plt.figure(figsize=(12, 6))\n",
        "\n",
        "plt.subplot(1, 3, 1)\n",
        "plt.title('Original Image')\n",
        "plt.imshow(original_image)\n",
        "plt.axis('off')\n",
        "\n",
        "plt.subplot(1, 3, 2)\n",
        "plt.title('Noisy Image (Salt & Pepper)')\n",
        "plt.imshow(noisy_image)\n",
        "plt.axis('off')\n",
        "\n",
        "plt.subplot(1, 3, 3)\n",
        "plt.title('Smoothed Image')\n",
        "plt.imshow(smoothed_image)\n",
        "plt.axis('off')\n",
        "\n",
        "plt.tight_layout()\n",
        "plt.show()"
      ],
      "metadata": {
        "colab": {
          "base_uri": "https://localhost:8080/",
          "height": 367
        },
        "id": "4nb4G6Ki32jg",
        "outputId": "88b0ec6c-3783-4cd9-8e97-a72126e6284e"
      },
      "execution_count": 9,
      "outputs": [
        {
          "output_type": "stream",
          "name": "stdout",
          "text": [
            "Error: Could not load image from /content/mercedes.jpeg. Please check the file path.\n"
          ]
        },
        {
          "output_type": "error",
          "ename": "AttributeError",
          "evalue": "'NoneType' object has no attribute 'size'",
          "traceback": [
            "\u001b[0;31m---------------------------------------------------------------------------\u001b[0m",
            "\u001b[0;31mAttributeError\u001b[0m                            Traceback (most recent call last)",
            "\u001b[0;32m<ipython-input-9-b4d9af6118a1>\u001b[0m in \u001b[0;36m<cell line: 0>\u001b[0;34m()\u001b[0m\n\u001b[1;32m     54\u001b[0m \u001b[0;34m\u001b[0m\u001b[0m\n\u001b[1;32m     55\u001b[0m \u001b[0;31m# Add salt and pepper noise to the image\u001b[0m\u001b[0;34m\u001b[0m\u001b[0;34m\u001b[0m\u001b[0m\n\u001b[0;32m---> 56\u001b[0;31m \u001b[0mnoisy_image\u001b[0m \u001b[0;34m=\u001b[0m \u001b[0madd_salt_and_pepper_noise\u001b[0m\u001b[0;34m(\u001b[0m\u001b[0moriginal_image\u001b[0m\u001b[0;34m,\u001b[0m \u001b[0msalt_prob\u001b[0m\u001b[0;34m=\u001b[0m\u001b[0;36m0.02\u001b[0m\u001b[0;34m,\u001b[0m \u001b[0mpepper_prob\u001b[0m\u001b[0;34m=\u001b[0m\u001b[0;36m0.02\u001b[0m\u001b[0;34m)\u001b[0m\u001b[0;34m\u001b[0m\u001b[0;34m\u001b[0m\u001b[0m\n\u001b[0m\u001b[1;32m     57\u001b[0m \u001b[0;34m\u001b[0m\u001b[0m\n\u001b[1;32m     58\u001b[0m \u001b[0;31m# Smooth the noisy image\u001b[0m\u001b[0;34m\u001b[0m\u001b[0;34m\u001b[0m\u001b[0m\n",
            "\u001b[0;32m<ipython-input-9-b4d9af6118a1>\u001b[0m in \u001b[0;36madd_salt_and_pepper_noise\u001b[0;34m(image, salt_prob, pepper_prob)\u001b[0m\n\u001b[1;32m     16\u001b[0m     \"\"\"\n\u001b[1;32m     17\u001b[0m     \u001b[0mnoisy_image\u001b[0m \u001b[0;34m=\u001b[0m \u001b[0mnp\u001b[0m\u001b[0;34m.\u001b[0m\u001b[0mcopy\u001b[0m\u001b[0;34m(\u001b[0m\u001b[0mimage\u001b[0m\u001b[0;34m)\u001b[0m\u001b[0;34m\u001b[0m\u001b[0;34m\u001b[0m\u001b[0m\n\u001b[0;32m---> 18\u001b[0;31m     \u001b[0mtotal_pixels\u001b[0m \u001b[0;34m=\u001b[0m \u001b[0mimage\u001b[0m\u001b[0;34m.\u001b[0m\u001b[0msize\u001b[0m\u001b[0;34m\u001b[0m\u001b[0;34m\u001b[0m\u001b[0m\n\u001b[0m\u001b[1;32m     19\u001b[0m \u001b[0;34m\u001b[0m\u001b[0m\n\u001b[1;32m     20\u001b[0m     \u001b[0;31m# Add salt noise\u001b[0m\u001b[0;34m\u001b[0m\u001b[0;34m\u001b[0m\u001b[0m\n",
            "\u001b[0;31mAttributeError\u001b[0m: 'NoneType' object has no attribute 'size'"
          ]
        }
      ]
    }
  ]
}